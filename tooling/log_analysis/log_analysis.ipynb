{
 "cells": [
  {
   "cell_type": "code",
   "execution_count": null,
   "id": "d0fe5b65-003f-4ca6-96ec-64c779230a3d",
   "metadata": {},
   "outputs": [],
   "source": [
    "import re\n",
    "import pandas as pd\n",
    "import matplotlib.pyplot as plt"
   ]
  },
  {
   "cell_type": "code",
   "execution_count": null,
   "id": "aeef554c-9f71-40cf-bcc5-f1c3b51eaabf",
   "metadata": {},
   "outputs": [],
   "source": [
    "# Parses a metrics log line. Returns a struct with metrics. Returns None if this is not a metrics log.\n",
    "def metrics_log(log):\n",
    "    pattern = re.compile(\n",
    "        r\"\\[METRIC\\] BLOCK EXECUTION THROUGHPUT \\(([\\d]+)\\): ([\\d.]+) Ggas/s TIME SPENT: ([\\d]+) ms. Gas Used: ([\\d.]+) \\(([\\d]+)%\\), #Txs: ([\\d]+). exec: ([\\d]+)% merkle: ([\\d]+)% store: ([\\d]+)%\"\n",
    "    )\n",
    "\n",
    "    match = pattern.search(log)\n",
    "    if match:\n",
    "        return {\n",
    "            \"block_number\": int(match.group(1)),\n",
    "            \"throughput\": float(match.group(2)),\n",
    "            \"time_spent\": int(match.group(3)),\n",
    "            \"gas_used\": float(match.group(4)),\n",
    "            \"gas_percentage\": int(match.group(5)),\n",
    "            \"num_txs\": int(match.group(6)),\n",
    "            \"exec_pct\": int(match.group(7)),\n",
    "            \"merkle_pct\": int(match.group(8)),\n",
    "            \"store_pct\": int(match.group(9)),\n",
    "        }"
   ]
  },
  {
   "cell_type": "code",
   "execution_count": null,
   "id": "28eda9ec-133c-486c-871c-eb50d47adef4",
   "metadata": {},
   "outputs": [],
   "source": [
    "# Parses a full log file. Returns a pandas dataframe.\n",
    "def log_to_df(filename):\n",
    "    with open(filename) as file:\n",
    "        metrics = []\n",
    "        lines = file.readlines()\n",
    "        for line in lines:\n",
    "            metric = metrics_log(line)\n",
    "            if metric:\n",
    "                metrics.append(metric)\n",
    "    return pd.DataFrame(metrics)"
   ]
  },
  {
   "cell_type": "code",
   "execution_count": null,
   "id": "f104b40a-71a8-4224-9258-ce628498a98b",
   "metadata": {},
   "outputs": [],
   "source": [
    "def plot_proportions(df):\n",
    "    plt.figure(figsize=(20, 4))\n",
    "    \n",
    "    plt.stackplot(\n",
    "        df['block_number'],\n",
    "        df['exec_pct'],\n",
    "        df['merkle_pct'],\n",
    "        df['store_pct'],\n",
    "        labels=['Exec %', 'Merkle %', 'Store %'],\n",
    "        alpha=0.8\n",
    "    )\n",
    "    \n",
    "    plt.xlabel('Block Number')\n",
    "    plt.ylabel('Percentage')\n",
    "    plt.title('Proportion of Exec, Merkle, and Store per Block')\n",
    "    plt.legend(loc='upper right')\n",
    "    plt.ylim(0, 100)\n",
    "    plt.tight_layout()\n",
    "    plt.show()"
   ]
  },
  {
   "cell_type": "code",
   "execution_count": null,
   "id": "616b0f2f-8234-40cf-9bc2-5def962950ae",
   "metadata": {},
   "outputs": [],
   "source": [
    "def plot_time_spent(df):\n",
    "    plt.figure(figsize=(20, 4))\n",
    "    \n",
    "    plt.stackplot(\n",
    "        df['block_number'],\n",
    "        df['exec_pct']*df['time_spent']/100,\n",
    "        df['merkle_pct']*df['time_spent']/100,\n",
    "        df['store_pct']*df['time_spent']/100,\n",
    "        labels=['Exec %', 'Merkle %', 'Store %'],\n",
    "        alpha=0.8\n",
    "    )\n",
    "    \n",
    "    plt.xlabel('Block Number')\n",
    "    plt.ylabel('Time spent (ms)')\n",
    "    plt.title('Time spent per block, divided by exec, merkle and storage')\n",
    "    plt.legend(loc='upper right')\n",
    "    plt.ylim(0, 170)\n",
    "    plt.tight_layout()\n",
    "    plt.show()"
   ]
  },
  {
   "cell_type": "code",
   "execution_count": null,
   "id": "cbe6f87b-22b5-4b05-a184-94d286cdbe64",
   "metadata": {},
   "outputs": [],
   "source": [
    "def plot_throughput(df):\n",
    "    plt.figure(figsize=(20, 4))\n",
    "    plt.plot(df['block_number'], df['throughput'], label='Throughput (Ggas/s)')\n",
    "    \n",
    "    plt.xlabel('Block Number')\n",
    "    plt.ylabel('Throughput (Ggas/s)')\n",
    "\n",
    "    # We limit the y axis to prevent outliers from making normal values look too small\n",
    "    plt.ylim(0,0.6)\n",
    "    plt.title('Block Throughput per Block Number')\n",
    "    plt.legend()\n",
    "    plt.grid(True)\n",
    "    plt.tight_layout()\n",
    "    plt.show()"
   ]
  },
  {
   "cell_type": "code",
   "execution_count": null,
   "id": "36a4b631-edd7-439c-8bee-6bcbbb5e600b",
   "metadata": {},
   "outputs": [],
   "source": [
    "df = log_to_df(\"import-100k.log\")"
   ]
  },
  {
   "cell_type": "code",
   "execution_count": null,
   "id": "9bb86c04-2a79-445c-9017-ebcca1004ec0",
   "metadata": {},
   "outputs": [],
   "source": [
    "plot_throughput(df)\n",
    "plot_time_spent(df)\n",
    "plot_proportions(df)"
   ]
  }
 ],
 "metadata": {
  "kernelspec": {
   "display_name": "Python 3 (ipykernel)",
   "language": "python",
   "name": "python3"
  },
  "language_info": {
   "codemirror_mode": {
    "name": "ipython",
    "version": 3
   },
   "file_extension": ".py",
   "mimetype": "text/x-python",
   "name": "python",
   "nbconvert_exporter": "python",
   "pygments_lexer": "ipython3",
   "version": "3.13.5"
  }
 },
 "nbformat": 4,
 "nbformat_minor": 5
}
